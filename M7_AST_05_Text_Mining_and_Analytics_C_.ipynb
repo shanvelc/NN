{
  "nbformat": 4,
  "nbformat_minor": 0,
  "metadata": {
    "kernelspec": {
      "display_name": "Python 3",
      "language": "python",
      "name": "python3"
    },
    "language_info": {
      "codemirror_mode": {
        "name": "ipython",
        "version": 3
      },
      "file_extension": ".py",
      "mimetype": "text/x-python",
      "name": "python",
      "nbconvert_exporter": "python",
      "pygments_lexer": "ipython3",
      "version": "3.8.5"
    },
    "colab": {
      "provenance": [],
      "include_colab_link": true
    }
  },
  "cells": [
    {
      "cell_type": "markdown",
      "metadata": {
        "id": "view-in-github",
        "colab_type": "text"
      },
      "source": [
        "<a href=\"https://colab.research.google.com/github/shanvelc/NN/blob/main/M7_AST_05_Text_Mining_and_Analytics_C_.ipynb\" target=\"_parent\"><img src=\"https://colab.research.google.com/assets/colab-badge.svg\" alt=\"Open In Colab\"/></a>"
      ]
    },
    {
      "cell_type": "markdown",
      "metadata": {
        "id": "LM_GMDQ-J1uN"
      },
      "source": [
        "# Advanced Certification Program in Computational Data Science\n",
        "## A program by IISc and TalentSprint\n",
        "### Assignment 5: ETL pipeline for Text Mining and Analytics"
      ]
    },
    {
      "cell_type": "markdown",
      "metadata": {
        "id": "pAZ01Z5tJ1uV"
      },
      "source": [
        "At the end of the experiment, you will be able to:\n",
        "\n",
        "* perform text mining and analytics using Spark SQL functions\n",
        "* use Spark’s built-in and external data sources to write data in different file formats as part of the extract, transform, and load (ETL) tasks\n"
      ]
    },
    {
      "cell_type": "markdown",
      "metadata": {
        "id": "J93wmCVyJ1uW"
      },
      "source": [
        "## Information"
      ]
    },
    {
      "cell_type": "markdown",
      "metadata": {
        "id": "MyHY_53qJ1uX"
      },
      "source": [
        "The basic terminology related to text analytics are\n",
        "\n",
        "* **Text**: a sequence of words and punctuation\n",
        "* **Corpus**: a large body of text\n",
        "* **Frequency distribution**: the frequency of words in a text object\n",
        "* **Collocation**: a sequence of words that occur together unusually often\n",
        "* **Bigrams**: word pairs. High frequent bigrams are collocations\n",
        "* **Text normalization**: the process of transforming text into a single canonical form, e.g., converting text to lowercase, removing punctuations and stop words."
      ]
    },
    {
      "cell_type": "markdown",
      "metadata": {
        "id": "UexUWZb2J1uX"
      },
      "source": [
        "### Introduction"
      ]
    },
    {
      "cell_type": "markdown",
      "metadata": {
        "id": "F2dNzmmEJ1uX"
      },
      "source": [
        "Text analytics is the process of deriving information from text. It usually involves information retrieval, lexical analysis to study word frequency distributions, pattern recognition, tagging, information extraction, visualization, and predictive analytics. The overarching goal is, essentially, to turn text into data for analysis, via application of natural language processing (NLP), different types of algorithms and analytical methods.\n",
        "\n",
        "Here we will consider `milton-paradise.txt` text file from Gutenberg corpus to do text mining and analytics. Starting from data extraction, we will perform various transformations on text including tokenization, the number of words counting, POS tagging, chunking and then store it in different file formats."
      ]
    },
    {
      "cell_type": "markdown",
      "metadata": {
        "id": "BNLA8HiKxQhc"
      },
      "source": [
        "### Setup Steps:"
      ]
    },
    {
      "cell_type": "code",
      "metadata": {
        "id": "2YzfoPvJDiTX"
      },
      "source": [
        "#@title Please enter your registration id to start: { run: \"auto\", display-mode: \"form\" }\n",
        "Id = \"2306024\" #@param {type:\"string\"}"
      ],
      "execution_count": 1,
      "outputs": []
    },
    {
      "cell_type": "code",
      "metadata": {
        "id": "AjoZJWGErxGf"
      },
      "source": [
        "#@title Please enter your password (your registered phone number) to continue: { run: \"auto\", display-mode: \"form\" }\n",
        "password = \"9742221781\" #@param {type:\"string\"}"
      ],
      "execution_count": 2,
      "outputs": []
    },
    {
      "cell_type": "code",
      "metadata": {
        "id": "WBPPuGmBlDIN",
        "cellView": "form",
        "colab": {
          "base_uri": "https://localhost:8080/",
          "height": 35
        },
        "outputId": "1519cdb0-334b-4e26-d757-aac2bf1574c7"
      },
      "source": [
        "#@title Run this cell to complete the setup for this Notebook\n",
        "from IPython import get_ipython\n",
        "\n",
        "ipython = get_ipython()\n",
        "\n",
        "notebook= \"M7_AST_05_Text_Mining_and_Analytics_C\" #name of the notebook\n",
        "\n",
        "def setup():\n",
        "#  ipython.magic(\"sx pip3 install torch\")\n",
        "    from IPython.display import HTML, display\n",
        "    display(HTML('<script src=\"https://dashboard.talentsprint.com/aiml/record_ip.html?traineeId={0}&recordId={1}\"></script>'.format(getId(),submission_id)))\n",
        "    print(\"Setup completed successfully\")\n",
        "    return\n",
        "\n",
        "def submit_notebook():\n",
        "    ipython.magic(\"notebook -e \"+ notebook + \".ipynb\")\n",
        "\n",
        "    import requests, json, base64, datetime\n",
        "\n",
        "    url = \"https://dashboard.talentsprint.com/xp/app/save_notebook_attempts\"\n",
        "    if not submission_id:\n",
        "      data = {\"id\" : getId(), \"notebook\" : notebook, \"mobile\" : getPassword()}\n",
        "      r = requests.post(url, data = data)\n",
        "      r = json.loads(r.text)\n",
        "\n",
        "      if r[\"status\"] == \"Success\":\n",
        "          return r[\"record_id\"]\n",
        "      elif \"err\" in r:\n",
        "        print(r[\"err\"])\n",
        "        return None\n",
        "      else:\n",
        "        print (\"Something is wrong, the notebook will not be submitted for grading\")\n",
        "        return None\n",
        "\n",
        "    elif getAnswer() and getComplexity() and getAdditional() and getConcepts() and getComments() and getMentorSupport():\n",
        "      f = open(notebook + \".ipynb\", \"rb\")\n",
        "      file_hash = base64.b64encode(f.read())\n",
        "\n",
        "      data = {\"complexity\" : Complexity, \"additional\" :Additional,\n",
        "              \"concepts\" : Concepts, \"record_id\" : submission_id,\n",
        "              \"answer\" : Answer, \"id\" : Id, \"file_hash\" : file_hash,\n",
        "              \"notebook\" : notebook,\n",
        "              \"feedback_experiments_input\" : Comments,\n",
        "              \"feedback_mentor_support\": Mentor_support}\n",
        "      r = requests.post(url, data = data)\n",
        "      r = json.loads(r.text)\n",
        "      if \"err\" in r:\n",
        "        print(r[\"err\"])\n",
        "        return None\n",
        "      else:\n",
        "        print(\"Your submission is successful.\")\n",
        "        print(\"Ref Id:\", submission_id)\n",
        "        print(\"Date of submission: \", r[\"date\"])\n",
        "        print(\"Time of submission: \", r[\"time\"])\n",
        "        print(\"View your submissions: https://cds-iisc.talentsprint.com/notebook_submissions\")\n",
        "        #print(\"For any queries/discrepancies, please connect with mentors through the chat icon in LMS dashboard.\")\n",
        "        return submission_id\n",
        "    else: submission_id\n",
        "\n",
        "\n",
        "def getAdditional():\n",
        "  try:\n",
        "    if not Additional:\n",
        "      raise NameError\n",
        "    else:\n",
        "      return Additional\n",
        "  except NameError:\n",
        "    print (\"Please answer Additional Question\")\n",
        "    return None\n",
        "\n",
        "def getComplexity():\n",
        "  try:\n",
        "    if not Complexity:\n",
        "      raise NameError\n",
        "    else:\n",
        "      return Complexity\n",
        "  except NameError:\n",
        "    print (\"Please answer Complexity Question\")\n",
        "    return None\n",
        "\n",
        "def getConcepts():\n",
        "  try:\n",
        "    if not Concepts:\n",
        "      raise NameError\n",
        "    else:\n",
        "      return Concepts\n",
        "  except NameError:\n",
        "    print (\"Please answer Concepts Question\")\n",
        "    return None\n",
        "\n",
        "\n",
        "# def getWalkthrough():\n",
        "#   try:\n",
        "#     if not Walkthrough:\n",
        "#       raise NameError\n",
        "#     else:\n",
        "#       return Walkthrough\n",
        "#   except NameError:\n",
        "#     print (\"Please answer Walkthrough Question\")\n",
        "#     return None\n",
        "\n",
        "def getComments():\n",
        "  try:\n",
        "    if not Comments:\n",
        "      raise NameError\n",
        "    else:\n",
        "      return Comments\n",
        "  except NameError:\n",
        "    print (\"Please answer Comments Question\")\n",
        "    return None\n",
        "\n",
        "\n",
        "def getMentorSupport():\n",
        "  try:\n",
        "    if not Mentor_support:\n",
        "      raise NameError\n",
        "    else:\n",
        "      return Mentor_support\n",
        "  except NameError:\n",
        "    print (\"Please answer Mentor support Question\")\n",
        "    return None\n",
        "\n",
        "def getAnswer():\n",
        "  try:\n",
        "    if not Answer:\n",
        "      raise NameError\n",
        "    else:\n",
        "      return Answer\n",
        "  except NameError:\n",
        "    print (\"Please answer Question\")\n",
        "    return None\n",
        "\n",
        "\n",
        "def getId():\n",
        "  try:\n",
        "    return Id if Id else None\n",
        "  except NameError:\n",
        "    return None\n",
        "\n",
        "def getPassword():\n",
        "  try:\n",
        "    return password if password else None\n",
        "  except NameError:\n",
        "    return None\n",
        "\n",
        "submission_id = None\n",
        "### Setup\n",
        "if getPassword() and getId():\n",
        "  submission_id = submit_notebook()\n",
        "  if submission_id:\n",
        "    setup()\n",
        "else:\n",
        "  print (\"Please complete Id and Password cells before running setup\")\n",
        "\n"
      ],
      "execution_count": 3,
      "outputs": [
        {
          "output_type": "display_data",
          "data": {
            "text/plain": [
              "<IPython.core.display.HTML object>"
            ],
            "text/html": [
              "<script src=\"https://dashboard.talentsprint.com/aiml/record_ip.html?traineeId=2306024&recordId=7821\"></script>"
            ]
          },
          "metadata": {}
        },
        {
          "output_type": "stream",
          "name": "stdout",
          "text": [
            "Setup completed successfully\n"
          ]
        }
      ]
    },
    {
      "cell_type": "markdown",
      "metadata": {
        "id": "GsODE6yLJ1uY"
      },
      "source": [
        "### Install Pyspark"
      ]
    },
    {
      "cell_type": "code",
      "metadata": {
        "id": "PbVweILTJ1uY",
        "colab": {
          "base_uri": "https://localhost:8080/"
        },
        "outputId": "96f17878-84a7-4392-e8c4-409ffce047c8"
      },
      "source": [
        "!pip install pyspark"
      ],
      "execution_count": 4,
      "outputs": [
        {
          "output_type": "stream",
          "name": "stdout",
          "text": [
            "Requirement already satisfied: pyspark in /usr/local/lib/python3.11/dist-packages (3.5.4)\n",
            "Requirement already satisfied: py4j==0.10.9.7 in /usr/local/lib/python3.11/dist-packages (from pyspark) (0.10.9.7)\n"
          ]
        }
      ]
    },
    {
      "cell_type": "markdown",
      "metadata": {
        "id": "gjdtWmUaJ1uY"
      },
      "source": [
        "### Import required packages"
      ]
    },
    {
      "cell_type": "code",
      "metadata": {
        "id": "i2qaeOmyJ1uZ"
      },
      "source": [
        "from pyspark.sql import SparkSession\n",
        "from matplotlib import pyplot as plt\n",
        "import pandas as pd\n",
        "import string\n",
        "from nltk import Tree\n",
        "from pyspark.ml.feature import NGram\n",
        "from pyspark.ml import Pipeline\n",
        "from pyspark.sql.types import *\n",
        "from pyspark.sql.functions import *\n",
        "import nltk"
      ],
      "execution_count": 5,
      "outputs": []
    },
    {
      "cell_type": "markdown",
      "metadata": {
        "id": "f8ZWzA-VJ1uZ"
      },
      "source": [
        "### Start a Spark Session"
      ]
    },
    {
      "cell_type": "markdown",
      "metadata": {
        "id": "RKKkyz0IJ1uZ"
      },
      "source": [
        "Spark session is a combined entry point of a Spark application, which came into implementation from Spark 2.0. Instead of having various context, everything is now encapsulated in a Spark session."
      ]
    },
    {
      "cell_type": "code",
      "metadata": {
        "id": "pAeBc9XpJ1uZ",
        "colab": {
          "base_uri": "https://localhost:8080/",
          "height": 222
        },
        "outputId": "d630d118-c46b-4370-94ae-32bdba5cee4a"
      },
      "source": [
        "# Start spark session\n",
        "spark = SparkSession.builder.appName('ETL text data').getOrCreate()\n",
        "spark"
      ],
      "execution_count": 6,
      "outputs": [
        {
          "output_type": "execute_result",
          "data": {
            "text/plain": [
              "<pyspark.sql.session.SparkSession at 0x7a9fcc1f72d0>"
            ],
            "text/html": [
              "\n",
              "            <div>\n",
              "                <p><b>SparkSession - in-memory</b></p>\n",
              "                \n",
              "        <div>\n",
              "            <p><b>SparkContext</b></p>\n",
              "\n",
              "            <p><a href=\"http://e6cd6bc2a251:4040\">Spark UI</a></p>\n",
              "\n",
              "            <dl>\n",
              "              <dt>Version</dt>\n",
              "                <dd><code>v3.5.4</code></dd>\n",
              "              <dt>Master</dt>\n",
              "                <dd><code>local[*]</code></dd>\n",
              "              <dt>AppName</dt>\n",
              "                <dd><code>ETL text data</code></dd>\n",
              "            </dl>\n",
              "        </div>\n",
              "        \n",
              "            </div>\n",
              "        "
            ]
          },
          "metadata": {},
          "execution_count": 6
        }
      ]
    },
    {
      "cell_type": "markdown",
      "metadata": {
        "id": "_w1rS1nRJ1ua"
      },
      "source": [
        "### Text Analytics"
      ]
    },
    {
      "cell_type": "markdown",
      "metadata": {
        "id": "QUO-MOywJ1ua"
      },
      "source": [
        "#### Get the text data\n",
        "\n",
        "The raw text is from the Gutenberg corpus from the nltk package. Get file ids in Gutenberg corpus."
      ]
    },
    {
      "cell_type": "code",
      "metadata": {
        "id": "r8JRZaZPJ1ua",
        "colab": {
          "base_uri": "https://localhost:8080/"
        },
        "outputId": "df255e2e-f93a-4132-d652-ac3fb899112d"
      },
      "source": [
        "nltk.download('gutenberg')\n",
        "\n",
        "# Download dependencies for sent_tokenize()\n",
        "nltk.download('punkt_tab')"
      ],
      "execution_count": 7,
      "outputs": [
        {
          "output_type": "stream",
          "name": "stderr",
          "text": [
            "[nltk_data] Downloading package gutenberg to /root/nltk_data...\n",
            "[nltk_data]   Unzipping corpora/gutenberg.zip.\n",
            "[nltk_data] Downloading package punkt_tab to /root/nltk_data...\n",
            "[nltk_data]   Unzipping tokenizers/punkt_tab.zip.\n"
          ]
        },
        {
          "output_type": "execute_result",
          "data": {
            "text/plain": [
              "True"
            ]
          },
          "metadata": {},
          "execution_count": 7
        }
      ]
    },
    {
      "cell_type": "code",
      "metadata": {
        "id": "bkEWZrVWJ1ua",
        "colab": {
          "base_uri": "https://localhost:8080/"
        },
        "outputId": "7fb6ed4b-436a-46e0-b944-94d6fb7b26dd"
      },
      "source": [
        "from nltk.corpus import gutenberg\n",
        "gutenberg_fileids = gutenberg.fileids()\n",
        "gutenberg_fileids"
      ],
      "execution_count": 9,
      "outputs": [
        {
          "output_type": "execute_result",
          "data": {
            "text/plain": [
              "['austen-emma.txt',\n",
              " 'austen-persuasion.txt',\n",
              " 'austen-sense.txt',\n",
              " 'bible-kjv.txt',\n",
              " 'blake-poems.txt',\n",
              " 'bryant-stories.txt',\n",
              " 'burgess-busterbrown.txt',\n",
              " 'carroll-alice.txt',\n",
              " 'chesterton-ball.txt',\n",
              " 'chesterton-brown.txt',\n",
              " 'chesterton-thursday.txt',\n",
              " 'edgeworth-parents.txt',\n",
              " 'melville-moby_dick.txt',\n",
              " 'milton-paradise.txt',\n",
              " 'shakespeare-caesar.txt',\n",
              " 'shakespeare-hamlet.txt',\n",
              " 'shakespeare-macbeth.txt',\n",
              " 'whitman-leaves.txt']"
            ]
          },
          "metadata": {},
          "execution_count": 9
        }
      ]
    },
    {
      "cell_type": "markdown",
      "metadata": {
        "id": "0_vRcgahJ1ua"
      },
      "source": [
        "The file id is `milton-paradise.txt`. Use the nltk.sent_tokenize() function to split text into sentences."
      ]
    },
    {
      "cell_type": "code",
      "metadata": {
        "id": "XtvBSiuFJ1ub",
        "colab": {
          "base_uri": "https://localhost:8080/"
        },
        "outputId": "4fb3d5b1-63bc-4c5b-a56c-8e48227b4c70"
      },
      "source": [
        "milton_paradise = gutenberg.raw('milton-paradise.txt')\n",
        "#print(milton_paradise)\n",
        "pdf = pd.DataFrame({'sentences': nltk.sent_tokenize(milton_paradise)})\n",
        "d = spark.createDataFrame(pdf)\n",
        "d.show(1, truncate= False)"
      ],
      "execution_count": 10,
      "outputs": [
        {
          "output_type": "stream",
          "name": "stdout",
          "text": [
            "+---------------------------------------------------------------------------------------------------------------------------------------------------------------------------------------------------------------------------------------------------------------------------------------------------------------------------------------------------------------------------------------------------------------------------------------------------------------------------------------------------------------------------------------------------------------------------------------------------------------------------------------------------------------------------------------------------------------------------------------------------------------------------------------+\n",
            "|sentences                                                                                                                                                                                                                                                                                                                                                                                                                                                                                                                                                                                                                                                                                                                                                                              |\n",
            "+---------------------------------------------------------------------------------------------------------------------------------------------------------------------------------------------------------------------------------------------------------------------------------------------------------------------------------------------------------------------------------------------------------------------------------------------------------------------------------------------------------------------------------------------------------------------------------------------------------------------------------------------------------------------------------------------------------------------------------------------------------------------------------------+\n",
            "|[Paradise Lost by John Milton 1667] \\n \\n \\nBook I \\n \\n \\nOf Man's first disobedience, and the fruit \\nOf that forbidden tree whose mortal taste \\nBrought death into the World, and all our woe, \\nWith loss of Eden, till one greater Man \\nRestore us, and regain the blissful seat, \\nSing, Heavenly Muse, that, on the secret top \\nOf Oreb, or of Sinai, didst inspire \\nThat shepherd who first taught the chosen seed \\nIn the beginning how the heavens and earth \\nRose out of Chaos: or, if Sion hill \\nDelight thee more, and Siloa's brook that flowed \\nFast by the oracle of God, I thence \\nInvoke thy aid to my adventurous song, \\nThat with no middle flight intends to soar \\nAbove th' Aonian mount, while it pursues \\nThings unattempted yet in prose or rhyme.|\n",
            "+---------------------------------------------------------------------------------------------------------------------------------------------------------------------------------------------------------------------------------------------------------------------------------------------------------------------------------------------------------------------------------------------------------------------------------------------------------------------------------------------------------------------------------------------------------------------------------------------------------------------------------------------------------------------------------------------------------------------------------------------------------------------------------------+\n",
            "only showing top 1 row\n",
            "\n"
          ]
        }
      ]
    },
    {
      "cell_type": "markdown",
      "metadata": {
        "id": "1wiCzYxgJ1ub"
      },
      "source": [
        "From above it can be seen that empty spaces are present in the data."
      ]
    },
    {
      "cell_type": "markdown",
      "metadata": {
        "id": "EW2NfTKfJ1ub"
      },
      "source": [
        "#### Transform Data\n",
        "\n",
        "* Remove trailing spaces"
      ]
    },
    {
      "cell_type": "code",
      "source": [
        "# Transform data\n",
        "d_x = d.withColumn(\"sentences\", regexp_replace(col(\"sentences\"), \"\\\\n+\",\"\"))\n",
        "d_x.show(5, truncate= False)"
      ],
      "metadata": {
        "id": "jXjsRQ0iant0",
        "outputId": "e6c13f4e-5c14-4d09-b96e-14463a199fc3",
        "colab": {
          "base_uri": "https://localhost:8080/"
        }
      },
      "execution_count": 11,
      "outputs": [
        {
          "output_type": "stream",
          "name": "stdout",
          "text": [
            "+---------------------------------------------------------------------------------------------------------------------------------------------------------------------------------------------------------------------------------------------------------------------------------------------------------------------------------------------------------------------------------------------------------------------------------------------------------------------------------------------------------------------------------------------------------------------------------------------------------------------------------------------------------------------------------------------------------------------------------------------+\n",
            "|sentences                                                                                                                                                                                                                                                                                                                                                                                                                                                                                                                                                                                                                                                                                                                                    |\n",
            "+---------------------------------------------------------------------------------------------------------------------------------------------------------------------------------------------------------------------------------------------------------------------------------------------------------------------------------------------------------------------------------------------------------------------------------------------------------------------------------------------------------------------------------------------------------------------------------------------------------------------------------------------------------------------------------------------------------------------------------------------+\n",
            "|[Paradise Lost by John Milton 1667]   Book I   Of Man's first disobedience, and the fruit Of that forbidden tree whose mortal taste Brought death into the World, and all our woe, With loss of Eden, till one greater Man Restore us, and regain the blissful seat, Sing, Heavenly Muse, that, on the secret top Of Oreb, or of Sinai, didst inspire That shepherd who first taught the chosen seed In the beginning how the heavens and earth Rose out of Chaos: or, if Sion hill Delight thee more, and Siloa's brook that flowed Fast by the oracle of God, I thence Invoke thy aid to my adventurous song, That with no middle flight intends to soar Above th' Aonian mount, while it pursues Things unattempted yet in prose or rhyme.|\n",
            "|And chiefly thou, O Spirit, that dost prefer Before all temples th' upright heart and pure, Instruct me, for thou know'st; thou from the first Wast present, and, with mighty wings outspread, Dove-like sat'st brooding on the vast Abyss, And mad'st it pregnant: what in me is dark Illumine, what is low raise and support; That, to the height of this great argument, I may assert Eternal Providence, And justify the ways of God to men.                                                                                                                                                                                                                                                                                             |\n",
            "|Say first--for Heaven hides nothing from thy view, Nor the deep tract of Hell--say first what cause Moved our grand parents, in that happy state, Favoured of Heaven so highly, to fall off From their Creator, and transgress his will For one restraint, lords of the World besides.                                                                                                                                                                                                                                                                                                                                                                                                                                                       |\n",
            "|Who first seduced them to that foul revolt?                                                                                                                                                                                                                                                                                                                                                                                                                                                                                                                                                                                                                                                                                                  |\n",
            "|Th' infernal Serpent; he it was whose guile, Stirred up with envy and revenge, deceived The mother of mankind, what time his pride Had cast him out from Heaven, with all his host Of rebel Angels, by whose aid, aspiring To set himself in glory above his peers, He trusted to have equalled the Most High, If he opposed, and with ambitious aim Against the throne and monarchy of God, Raised impious war in Heaven and battle proud, With vain attempt.                                                                                                                                                                                                                                                                               |\n",
            "+---------------------------------------------------------------------------------------------------------------------------------------------------------------------------------------------------------------------------------------------------------------------------------------------------------------------------------------------------------------------------------------------------------------------------------------------------------------------------------------------------------------------------------------------------------------------------------------------------------------------------------------------------------------------------------------------------------------------------------------------+\n",
            "only showing top 5 rows\n",
            "\n"
          ]
        }
      ]
    },
    {
      "cell_type": "code",
      "source": [
        "# Transform data\n",
        "d1 = d.withColumn(\"sentences\", regexp_replace(col(\"sentences\"), \"\\\\s+\",\" \"))       # replace all spaces with with one space\n",
        "d1 = d1.withColumn(\"sentences\", trim(col(\"sentences\")))                            # remove trailing spaces [\"   Spark\", \"Spark  \", \" Spark\"]\n",
        "d1.show(5, truncate= False)"
      ],
      "metadata": {
        "id": "ycki4Xe_a2D0",
        "outputId": "0d298210-8b0e-426a-9533-0da5ec2ffe52",
        "colab": {
          "base_uri": "https://localhost:8080/"
        }
      },
      "execution_count": 12,
      "outputs": [
        {
          "output_type": "stream",
          "name": "stdout",
          "text": [
            "+-----------------------------------------------------------------------------------------------------------------------------------------------------------------------------------------------------------------------------------------------------------------------------------------------------------------------------------------------------------------------------------------------------------------------------------------------------------------------------------------------------------------------------------------------------------------------------------------------------------------------------------------------------------------------------------------------------------------------------------------+\n",
            "|sentences                                                                                                                                                                                                                                                                                                                                                                                                                                                                                                                                                                                                                                                                                                                                |\n",
            "+-----------------------------------------------------------------------------------------------------------------------------------------------------------------------------------------------------------------------------------------------------------------------------------------------------------------------------------------------------------------------------------------------------------------------------------------------------------------------------------------------------------------------------------------------------------------------------------------------------------------------------------------------------------------------------------------------------------------------------------------+\n",
            "|[Paradise Lost by John Milton 1667] Book I Of Man's first disobedience, and the fruit Of that forbidden tree whose mortal taste Brought death into the World, and all our woe, With loss of Eden, till one greater Man Restore us, and regain the blissful seat, Sing, Heavenly Muse, that, on the secret top Of Oreb, or of Sinai, didst inspire That shepherd who first taught the chosen seed In the beginning how the heavens and earth Rose out of Chaos: or, if Sion hill Delight thee more, and Siloa's brook that flowed Fast by the oracle of God, I thence Invoke thy aid to my adventurous song, That with no middle flight intends to soar Above th' Aonian mount, while it pursues Things unattempted yet in prose or rhyme.|\n",
            "|And chiefly thou, O Spirit, that dost prefer Before all temples th' upright heart and pure, Instruct me, for thou know'st; thou from the first Wast present, and, with mighty wings outspread, Dove-like sat'st brooding on the vast Abyss, And mad'st it pregnant: what in me is dark Illumine, what is low raise and support; That, to the height of this great argument, I may assert Eternal Providence, And justify the ways of God to men.                                                                                                                                                                                                                                                                                         |\n",
            "|Say first--for Heaven hides nothing from thy view, Nor the deep tract of Hell--say first what cause Moved our grand parents, in that happy state, Favoured of Heaven so highly, to fall off From their Creator, and transgress his will For one restraint, lords of the World besides.                                                                                                                                                                                                                                                                                                                                                                                                                                                   |\n",
            "|Who first seduced them to that foul revolt?                                                                                                                                                                                                                                                                                                                                                                                                                                                                                                                                                                                                                                                                                              |\n",
            "|Th' infernal Serpent; he it was whose guile, Stirred up with envy and revenge, deceived The mother of mankind, what time his pride Had cast him out from Heaven, with all his host Of rebel Angels, by whose aid, aspiring To set himself in glory above his peers, He trusted to have equalled the Most High, If he opposed, and with ambitious aim Against the throne and monarchy of God, Raised impious war in Heaven and battle proud, With vain attempt.                                                                                                                                                                                                                                                                           |\n",
            "+-----------------------------------------------------------------------------------------------------------------------------------------------------------------------------------------------------------------------------------------------------------------------------------------------------------------------------------------------------------------------------------------------------------------------------------------------------------------------------------------------------------------------------------------------------------------------------------------------------------------------------------------------------------------------------------------------------------------------------------------+\n",
            "only showing top 5 rows\n",
            "\n"
          ]
        }
      ]
    },
    {
      "cell_type": "code",
      "metadata": {
        "id": "iearnIOYJ1ub"
      },
      "source": [
        "# Transform data\n",
        "# d1 = d.withColumn(\"sentences\", regexp_replace(col(\"sentences\"), \"\\\\s+\",\"_\"))       # replace all spaces with underscore\n",
        "# d1 = d1.withColumn(\"sentences\", regexp_replace(col(\"sentences\"), \"_\",\" \"))         # replace all underscores with one space\n",
        "# d1 = d1.withColumn(\"sentences\", trim(col(\"sentences\")))                            # remove trailing spaces"
      ],
      "execution_count": null,
      "outputs": []
    },
    {
      "cell_type": "code",
      "metadata": {
        "id": "9hVrcNODJ1ub",
        "colab": {
          "base_uri": "https://localhost:8080/"
        },
        "outputId": "aca3398f-20a8-4d61-91a0-80ac07b9e8af"
      },
      "source": [
        "d1.show(5, truncate= False)"
      ],
      "execution_count": 13,
      "outputs": [
        {
          "output_type": "stream",
          "name": "stdout",
          "text": [
            "+-----------------------------------------------------------------------------------------------------------------------------------------------------------------------------------------------------------------------------------------------------------------------------------------------------------------------------------------------------------------------------------------------------------------------------------------------------------------------------------------------------------------------------------------------------------------------------------------------------------------------------------------------------------------------------------------------------------------------------------------+\n",
            "|sentences                                                                                                                                                                                                                                                                                                                                                                                                                                                                                                                                                                                                                                                                                                                                |\n",
            "+-----------------------------------------------------------------------------------------------------------------------------------------------------------------------------------------------------------------------------------------------------------------------------------------------------------------------------------------------------------------------------------------------------------------------------------------------------------------------------------------------------------------------------------------------------------------------------------------------------------------------------------------------------------------------------------------------------------------------------------------+\n",
            "|[Paradise Lost by John Milton 1667] Book I Of Man's first disobedience, and the fruit Of that forbidden tree whose mortal taste Brought death into the World, and all our woe, With loss of Eden, till one greater Man Restore us, and regain the blissful seat, Sing, Heavenly Muse, that, on the secret top Of Oreb, or of Sinai, didst inspire That shepherd who first taught the chosen seed In the beginning how the heavens and earth Rose out of Chaos: or, if Sion hill Delight thee more, and Siloa's brook that flowed Fast by the oracle of God, I thence Invoke thy aid to my adventurous song, That with no middle flight intends to soar Above th' Aonian mount, while it pursues Things unattempted yet in prose or rhyme.|\n",
            "|And chiefly thou, O Spirit, that dost prefer Before all temples th' upright heart and pure, Instruct me, for thou know'st; thou from the first Wast present, and, with mighty wings outspread, Dove-like sat'st brooding on the vast Abyss, And mad'st it pregnant: what in me is dark Illumine, what is low raise and support; That, to the height of this great argument, I may assert Eternal Providence, And justify the ways of God to men.                                                                                                                                                                                                                                                                                         |\n",
            "|Say first--for Heaven hides nothing from thy view, Nor the deep tract of Hell--say first what cause Moved our grand parents, in that happy state, Favoured of Heaven so highly, to fall off From their Creator, and transgress his will For one restraint, lords of the World besides.                                                                                                                                                                                                                                                                                                                                                                                                                                                   |\n",
            "|Who first seduced them to that foul revolt?                                                                                                                                                                                                                                                                                                                                                                                                                                                                                                                                                                                                                                                                                              |\n",
            "|Th' infernal Serpent; he it was whose guile, Stirred up with envy and revenge, deceived The mother of mankind, what time his pride Had cast him out from Heaven, with all his host Of rebel Angels, by whose aid, aspiring To set himself in glory above his peers, He trusted to have equalled the Most High, If he opposed, and with ambitious aim Against the throne and monarchy of God, Raised impious war in Heaven and battle proud, With vain attempt.                                                                                                                                                                                                                                                                           |\n",
            "+-----------------------------------------------------------------------------------------------------------------------------------------------------------------------------------------------------------------------------------------------------------------------------------------------------------------------------------------------------------------------------------------------------------------------------------------------------------------------------------------------------------------------------------------------------------------------------------------------------------------------------------------------------------------------------------------------------------------------------------------+\n",
            "only showing top 5 rows\n",
            "\n"
          ]
        }
      ]
    },
    {
      "cell_type": "code",
      "metadata": {
        "id": "yrO3vZ67J1uc",
        "outputId": "6af48fab-58c9-48d0-8ea3-ca5cadd4dee2",
        "colab": {
          "base_uri": "https://localhost:8080/"
        }
      },
      "source": [
        "# Check for empty lines\n",
        "d1.where(col(\"sentences\")==\"\").count()"
      ],
      "execution_count": 14,
      "outputs": [
        {
          "output_type": "execute_result",
          "data": {
            "text/plain": [
              "0"
            ]
          },
          "metadata": {},
          "execution_count": 14
        }
      ]
    },
    {
      "cell_type": "markdown",
      "metadata": {
        "id": "iUTbYzXSJ1uc"
      },
      "source": [
        "##### Word Tokenization\n",
        "\n",
        "It is the process of breaking down a paragraph, a sentence or a complete text corpus into an array of words."
      ]
    },
    {
      "cell_type": "code",
      "metadata": {
        "id": "5TaiZDtkJ1uc"
      },
      "source": [
        "from nltk.tokenize import word_tokenize\n",
        "\n",
        "word_udf = udf(lambda x: word_tokenize(x), ArrayType(StringType()))\n",
        "d2 = d1.withColumn(\"words\", word_udf(\"sentences\"))"
      ],
      "execution_count": 15,
      "outputs": []
    },
    {
      "cell_type": "code",
      "metadata": {
        "id": "VX4130tAJ1uc",
        "outputId": "67475294-5508-4eb0-ed9e-cb401e49b5f7",
        "colab": {
          "base_uri": "https://localhost:8080/"
        }
      },
      "source": [
        "d2.show(5)"
      ],
      "execution_count": 16,
      "outputs": [
        {
          "output_type": "stream",
          "name": "stdout",
          "text": [
            "+--------------------+--------------------+\n",
            "|           sentences|               words|\n",
            "+--------------------+--------------------+\n",
            "|[Paradise Lost by...|[[, Paradise, Los...|\n",
            "|And chiefly thou,...|[And, chiefly, th...|\n",
            "|Say first--for He...|[Say, first, --, ...|\n",
            "|Who first seduced...|[Who, first, sedu...|\n",
            "|Th' infernal Serp...|[Th, ', infernal,...|\n",
            "+--------------------+--------------------+\n",
            "only showing top 5 rows\n",
            "\n"
          ]
        }
      ]
    },
    {
      "cell_type": "markdown",
      "metadata": {
        "id": "F4N9SIngJ1uc"
      },
      "source": [
        "From above it can be seen that data has punctuations in it.\n",
        "\n",
        "* **Remove punctuation and stopwords**"
      ]
    },
    {
      "cell_type": "code",
      "metadata": {
        "id": "DxR9eooPJ1uc",
        "outputId": "77810a59-d85d-46ae-d39c-ba0bc8659b0c",
        "colab": {
          "base_uri": "https://localhost:8080/"
        }
      },
      "source": [
        "# Download stopwords\n",
        "nltk.download('stopwords')"
      ],
      "execution_count": 17,
      "outputs": [
        {
          "output_type": "stream",
          "name": "stderr",
          "text": [
            "[nltk_data] Downloading package stopwords to /root/nltk_data...\n",
            "[nltk_data]   Unzipping corpora/stopwords.zip.\n"
          ]
        },
        {
          "output_type": "execute_result",
          "data": {
            "text/plain": [
              "True"
            ]
          },
          "metadata": {},
          "execution_count": 17
        }
      ]
    },
    {
      "cell_type": "code",
      "metadata": {
        "id": "1rRHaCN0J1ud",
        "outputId": "aca23c21-6507-4eac-cebb-81d4b8ab6fe9",
        "colab": {
          "base_uri": "https://localhost:8080/"
        }
      },
      "source": [
        "from nltk.corpus import stopwords\n",
        "stop_words = set(stopwords.words('english'))\n",
        "print(stop_words)"
      ],
      "execution_count": 18,
      "outputs": [
        {
          "output_type": "stream",
          "name": "stdout",
          "text": [
            "{'an', 'ma', 'their', 'y', \"you're\", \"haven't\", 'up', 'those', 'again', 'd', 'himself', 'weren', 'this', 'during', 'now', \"shan't\", 'these', 'they', \"weren't\", 'before', 'not', 'yours', 'being', 're', 'our', 'as', 'if', \"you've\", 'about', 'just', 'where', 'themselves', 'do', \"wouldn't\", 've', 'very', 'am', 'll', 'that', 'wasn', 'further', \"won't\", 'down', 'once', 'ourselves', 'and', \"should've\", 'hadn', \"shouldn't\", 'he', 'had', 'because', 'between', 'why', 'with', 'most', 'out', 'below', \"it's\", 'have', \"hadn't\", 'nor', \"hasn't\", 'hers', \"mightn't\", 'we', 'm', 'how', 'me', 'your', 'under', 'couldn', 'will', 'you', 'when', 'she', \"that'll\", 'other', 'doing', 'into', 's', 'a', 'all', 'should', 'i', 'won', 'for', 'whom', 'but', 'does', 'to', 'which', 'yourself', 'so', 'it', 'no', 'of', 't', 'shan', 'theirs', 'having', 'here', 'don', 'was', 'been', 'the', 'from', 'both', 'didn', 'mightn', 'in', 'any', 'haven', 'who', 'mustn', 'against', 'aren', \"didn't\", 'too', 'after', 'my', 'or', 'few', 'needn', 'above', \"you'd\", 'doesn', \"doesn't\", 'hasn', 'are', 'over', 'him', \"aren't\", 'than', 'on', 'be', 'until', \"wasn't\", 'did', 'own', 'can', 'her', \"isn't\", 'shouldn', \"you'll\", 'each', 'such', 'same', 'isn', \"don't\", 'ain', 'herself', 'is', 'itself', 'has', 'by', 'then', 'there', 'what', \"couldn't\", 'yourselves', 'some', 'more', 'its', 'through', 'at', 'them', 'wouldn', 'ours', 'off', 'while', 'o', 'his', \"she's\", 'were', \"mustn't\", 'myself', 'only', \"needn't\"}\n"
          ]
        }
      ]
    },
    {
      "cell_type": "code",
      "metadata": {
        "id": "vSSCh2QeJ1ud",
        "outputId": "9ced510c-23ab-4dbd-8d83-04cbf9fb1d68",
        "colab": {
          "base_uri": "https://localhost:8080/"
        }
      },
      "source": [
        "\n",
        "punctuation = string.punctuation\n",
        "print(punctuation)"
      ],
      "execution_count": 19,
      "outputs": [
        {
          "output_type": "stream",
          "name": "stdout",
          "text": [
            "!\"#$%&'()*+,-./:;<=>?@[\\]^_`{|}~\n"
          ]
        }
      ]
    },
    {
      "cell_type": "code",
      "metadata": {
        "id": "3gKHU3-bJ1ud",
        "outputId": "1e48b901-1cc4-4624-907e-0865d9ea8649",
        "colab": {
          "base_uri": "https://localhost:8080/"
        }
      },
      "source": [
        "# Transform data\n",
        "punct_udf = udf(lambda x: [w for w in x if not w.lower() in punctuation if not w.lower() in stop_words])\n",
        "d3 = d2.withColumn(\"words\", punct_udf(\"words\"))\n",
        "d3.show(5)"
      ],
      "execution_count": 20,
      "outputs": [
        {
          "output_type": "stream",
          "name": "stdout",
          "text": [
            "+--------------------+--------------------+\n",
            "|           sentences|               words|\n",
            "+--------------------+--------------------+\n",
            "|[Paradise Lost by...|[Paradise, Lost, ...|\n",
            "|And chiefly thou,...|[chiefly, thou, S...|\n",
            "|Say first--for He...|[Say, first, --, ...|\n",
            "|Who first seduced...|[first, seduced, ...|\n",
            "|Th' infernal Serp...|[Th, infernal, Se...|\n",
            "+--------------------+--------------------+\n",
            "only showing top 5 rows\n",
            "\n"
          ]
        }
      ]
    },
    {
      "cell_type": "code",
      "metadata": {
        "id": "x7CN5QwlJ1ud",
        "outputId": "48ee1469-0c8a-4fc3-f2a5-73ee63af9288",
        "colab": {
          "base_uri": "https://localhost:8080/"
        }
      },
      "source": [
        "# Convert dataframe column to arraytype for further processing\n",
        "\n",
        "array_udf = udf(lambda x: x, ArrayType(StringType()))\n",
        "d4 = d3.withColumn(\"words\", array_udf(\"words\"))\n",
        "d4.show(5)"
      ],
      "execution_count": 21,
      "outputs": [
        {
          "output_type": "stream",
          "name": "stdout",
          "text": [
            "+--------------------+--------------------+\n",
            "|           sentences|               words|\n",
            "+--------------------+--------------------+\n",
            "|[Paradise Lost by...|[Paradise, Lost, ...|\n",
            "|And chiefly thou,...|[chiefly, thou, S...|\n",
            "|Say first--for He...|[Say, first, --, ...|\n",
            "|Who first seduced...|[first, seduced, ...|\n",
            "|Th' infernal Serp...|[Th, infernal, Se...|\n",
            "+--------------------+--------------------+\n",
            "only showing top 5 rows\n",
            "\n"
          ]
        }
      ]
    },
    {
      "cell_type": "markdown",
      "metadata": {
        "id": "0HgsKRUDJ1ud"
      },
      "source": [
        "##### Ngrams and collocations\n",
        "\n",
        "Collocation is a sequence of words that occur together unusually often.\n",
        "Bigrams: word pairs. High frequent bigrams are collocations.\n",
        "\n",
        "Let's see how we transform texts to 2-grams, 3-grams, and 4-grams collocations."
      ]
    },
    {
      "cell_type": "code",
      "metadata": {
        "id": "oSeoJeoMJ1ue"
      },
      "source": [
        "ngrams = [NGram(n=n, inputCol='words', outputCol=str(n)+'-grams') for n in [2,3,4]]\n",
        "\n",
        "# build pipeline model\n",
        "pipeline = Pipeline(stages=ngrams)\n",
        "\n",
        "# transform data\n",
        "texts_ngrams = pipeline.fit(d4).transform(d4)"
      ],
      "execution_count": 22,
      "outputs": []
    },
    {
      "cell_type": "code",
      "metadata": {
        "id": "yxhhYXXrJ1ue",
        "outputId": "e1dc1e77-bb14-4eee-e0d6-02ed0870449e",
        "colab": {
          "base_uri": "https://localhost:8080/"
        }
      },
      "source": [
        "# display result\n",
        "texts_ngrams.select('2-grams').show(6, truncate=False)\n",
        "texts_ngrams.select('3-grams').show(6, truncate=False)\n",
        "texts_ngrams.select('4-grams').show(6, truncate=False)"
      ],
      "execution_count": 23,
      "outputs": [
        {
          "output_type": "stream",
          "name": "stdout",
          "text": [
            "+------------------------------------------------------------------------------------------------------------------------------------------------------------------------------------------------------------------------------------------------------------------------------------------------------------------------------------------------------------------------------------------------------------------------------------------------------------------------------------------------------------------------------------------------------------------------------------------------------------------------------------------------------------------------------------------------------------------------------------------------------------------------------------------------------------------------------------------------------------------------------------------------------------------------------------------------------------------------------------------------------------------------------------------------------------------------------------------------------+\n",
            "|2-grams                                                                                                                                                                                                                                                                                                                                                                                                                                                                                                                                                                                                                                                                                                                                                                                                                                                                                                                                                                                                                                                                                               |\n",
            "+------------------------------------------------------------------------------------------------------------------------------------------------------------------------------------------------------------------------------------------------------------------------------------------------------------------------------------------------------------------------------------------------------------------------------------------------------------------------------------------------------------------------------------------------------------------------------------------------------------------------------------------------------------------------------------------------------------------------------------------------------------------------------------------------------------------------------------------------------------------------------------------------------------------------------------------------------------------------------------------------------------------------------------------------------------------------------------------------------+\n",
            "|[Paradise Lost, Lost John, John Milton, Milton 1667, 1667 Book, Book Man, Man 's, 's first, first disobedience, disobedience fruit, fruit forbidden, forbidden tree, tree whose, whose mortal, mortal taste, taste Brought, Brought death, death World, World woe, woe loss, loss Eden, Eden till, till one, one greater, greater Man, Man Restore, Restore us, us regain, regain blissful, blissful seat, seat Sing, Sing Heavenly, Heavenly Muse, Muse secret, secret top, top Oreb, Oreb Sinai, Sinai didst, didst inspire, inspire shepherd, shepherd first, first taught, taught chosen, chosen seed, seed beginning, beginning heavens, heavens earth, earth Rose, Rose Chaos, Chaos Sion, Sion hill, hill Delight, Delight thee, thee Siloa, Siloa 's, 's brook, brook flowed, flowed Fast, Fast oracle, oracle God, God thence, thence Invoke, Invoke thy, thy aid, aid adventurous, adventurous song, song middle, middle flight, flight intends, intends soar, soar th, th Aonian, Aonian mount, mount pursues, pursues Things, Things unattempted, unattempted yet, yet prose, prose rhyme]|\n",
            "|[chiefly thou, thou Spirit, Spirit dost, dost prefer, prefer temples, temples th, th upright, upright heart, heart pure, pure Instruct, Instruct thou, thou know'st, know'st thou, thou first, first Wast, Wast present, present mighty, mighty wings, wings outspread, outspread Dove-like, Dove-like sat'st, sat'st brooding, brooding vast, vast Abyss, Abyss mad'st, mad'st pregnant, pregnant dark, dark Illumine, Illumine low, low raise, raise support, support height, height great, great argument, argument may, may assert, assert Eternal, Eternal Providence, Providence justify, justify ways, ways God, God men]                                                                                                                                                                                                                                                                                                                                                                                                                                                                      |\n",
            "|[Say first, first --, -- Heaven, Heaven hides, hides nothing, nothing thy, thy view, view deep, deep tract, tract Hell, Hell --, -- say, say first, first cause, cause Moved, Moved grand, grand parents, parents happy, happy state, state Favoured, Favoured Heaven, Heaven highly, highly fall, fall Creator, Creator transgress, transgress one, one restraint, restraint lords, lords World, World besides]                                                                                                                                                                                                                                                                                                                                                                                                                                                                                                                                                                                                                                                                                      |\n",
            "|[first seduced, seduced foul, foul revolt]                                                                                                                                                                                                                                                                                                                                                                                                                                                                                                                                                                                                                                                                                                                                                                                                                                                                                                                                                                                                                                                            |\n",
            "|[Th infernal, infernal Serpent, Serpent whose, whose guile, guile Stirred, Stirred envy, envy revenge, revenge deceived, deceived mother, mother mankind, mankind time, time pride, pride cast, cast Heaven, Heaven host, host rebel, rebel Angels, Angels whose, whose aid, aid aspiring, aspiring set, set glory, glory peers, peers trusted, trusted equalled, equalled High, High opposed, opposed ambitious, ambitious aim, aim throne, throne monarchy, monarchy God, God Raised, Raised impious, impious war, war Heaven, Heaven battle, battle proud, proud vain, vain attempt]                                                                                                                                                                                                                                                                                                                                                                                                                                                                                                               |\n",
            "|[Almighty Power, Power Hurled, Hurled headlong, headlong flaming, flaming th, th ethereal, ethereal sky, sky hideous, hideous ruin, ruin combustion, combustion bottomless, bottomless perdition, perdition dwell, dwell adamantine, adamantine chains, chains penal, penal fire, fire durst, durst defy, defy th, th Omnipotent, Omnipotent arms]                                                                                                                                                                                                                                                                                                                                                                                                                                                                                                                                                                                                                                                                                                                                                    |\n",
            "+------------------------------------------------------------------------------------------------------------------------------------------------------------------------------------------------------------------------------------------------------------------------------------------------------------------------------------------------------------------------------------------------------------------------------------------------------------------------------------------------------------------------------------------------------------------------------------------------------------------------------------------------------------------------------------------------------------------------------------------------------------------------------------------------------------------------------------------------------------------------------------------------------------------------------------------------------------------------------------------------------------------------------------------------------------------------------------------------------+\n",
            "only showing top 6 rows\n",
            "\n",
            "+----------------------------------------------------------------------------------------------------------------------------------------------------------------------------------------------------------------------------------------------------------------------------------------------------------------------------------------------------------------------------------------------------------------------------------------------------------------------------------------------------------------------------------------------------------------------------------------------------------------------------------------------------------------------------------------------------------------------------------------------------------------------------------------------------------------------------------------------------------------------------------------------------------------------------------------------------------------------------------------------------------------------------------------------------------------------------------------------------------------------------------------------------------------------------------------------------------------------------------------------------------------------------------------------------------------------------------------------------------------------------------------------------------------------------------------------------------------------------------------------------------------------------------------------------------------------------------------------+\n",
            "|3-grams                                                                                                                                                                                                                                                                                                                                                                                                                                                                                                                                                                                                                                                                                                                                                                                                                                                                                                                                                                                                                                                                                                                                                                                                                                                                                                                                                                                                                                                                                                                                                                                       |\n",
            "+----------------------------------------------------------------------------------------------------------------------------------------------------------------------------------------------------------------------------------------------------------------------------------------------------------------------------------------------------------------------------------------------------------------------------------------------------------------------------------------------------------------------------------------------------------------------------------------------------------------------------------------------------------------------------------------------------------------------------------------------------------------------------------------------------------------------------------------------------------------------------------------------------------------------------------------------------------------------------------------------------------------------------------------------------------------------------------------------------------------------------------------------------------------------------------------------------------------------------------------------------------------------------------------------------------------------------------------------------------------------------------------------------------------------------------------------------------------------------------------------------------------------------------------------------------------------------------------------+\n",
            "|[Paradise Lost John, Lost John Milton, John Milton 1667, Milton 1667 Book, 1667 Book Man, Book Man 's, Man 's first, 's first disobedience, first disobedience fruit, disobedience fruit forbidden, fruit forbidden tree, forbidden tree whose, tree whose mortal, whose mortal taste, mortal taste Brought, taste Brought death, Brought death World, death World woe, World woe loss, woe loss Eden, loss Eden till, Eden till one, till one greater, one greater Man, greater Man Restore, Man Restore us, Restore us regain, us regain blissful, regain blissful seat, blissful seat Sing, seat Sing Heavenly, Sing Heavenly Muse, Heavenly Muse secret, Muse secret top, secret top Oreb, top Oreb Sinai, Oreb Sinai didst, Sinai didst inspire, didst inspire shepherd, inspire shepherd first, shepherd first taught, first taught chosen, taught chosen seed, chosen seed beginning, seed beginning heavens, beginning heavens earth, heavens earth Rose, earth Rose Chaos, Rose Chaos Sion, Chaos Sion hill, Sion hill Delight, hill Delight thee, Delight thee Siloa, thee Siloa 's, Siloa 's brook, 's brook flowed, brook flowed Fast, flowed Fast oracle, Fast oracle God, oracle God thence, God thence Invoke, thence Invoke thy, Invoke thy aid, thy aid adventurous, aid adventurous song, adventurous song middle, song middle flight, middle flight intends, flight intends soar, intends soar th, soar th Aonian, th Aonian mount, Aonian mount pursues, mount pursues Things, pursues Things unattempted, Things unattempted yet, unattempted yet prose, yet prose rhyme]|\n",
            "|[chiefly thou Spirit, thou Spirit dost, Spirit dost prefer, dost prefer temples, prefer temples th, temples th upright, th upright heart, upright heart pure, heart pure Instruct, pure Instruct thou, Instruct thou know'st, thou know'st thou, know'st thou first, thou first Wast, first Wast present, Wast present mighty, present mighty wings, mighty wings outspread, wings outspread Dove-like, outspread Dove-like sat'st, Dove-like sat'st brooding, sat'st brooding vast, brooding vast Abyss, vast Abyss mad'st, Abyss mad'st pregnant, mad'st pregnant dark, pregnant dark Illumine, dark Illumine low, Illumine low raise, low raise support, raise support height, support height great, height great argument, great argument may, argument may assert, may assert Eternal, assert Eternal Providence, Eternal Providence justify, Providence justify ways, justify ways God, ways God men]                                                                                                                                                                                                                                                                                                                                                                                                                                                                                                                                                                                                                                                                                   |\n",
            "|[Say first --, first -- Heaven, -- Heaven hides, Heaven hides nothing, hides nothing thy, nothing thy view, thy view deep, view deep tract, deep tract Hell, tract Hell --, Hell -- say, -- say first, say first cause, first cause Moved, cause Moved grand, Moved grand parents, grand parents happy, parents happy state, happy state Favoured, state Favoured Heaven, Favoured Heaven highly, Heaven highly fall, highly fall Creator, fall Creator transgress, Creator transgress one, transgress one restraint, one restraint lords, restraint lords World, lords World besides]                                                                                                                                                                                                                                                                                                                                                                                                                                                                                                                                                                                                                                                                                                                                                                                                                                                                                                                                                                                                        |\n",
            "|[first seduced foul, seduced foul revolt]                                                                                                                                                                                                                                                                                                                                                                                                                                                                                                                                                                                                                                                                                                                                                                                                                                                                                                                                                                                                                                                                                                                                                                                                                                                                                                                                                                                                                                                                                                                                                     |\n",
            "|[Th infernal Serpent, infernal Serpent whose, Serpent whose guile, whose guile Stirred, guile Stirred envy, Stirred envy revenge, envy revenge deceived, revenge deceived mother, deceived mother mankind, mother mankind time, mankind time pride, time pride cast, pride cast Heaven, cast Heaven host, Heaven host rebel, host rebel Angels, rebel Angels whose, Angels whose aid, whose aid aspiring, aid aspiring set, aspiring set glory, set glory peers, glory peers trusted, peers trusted equalled, trusted equalled High, equalled High opposed, High opposed ambitious, opposed ambitious aim, ambitious aim throne, aim throne monarchy, throne monarchy God, monarchy God Raised, God Raised impious, Raised impious war, impious war Heaven, war Heaven battle, Heaven battle proud, battle proud vain, proud vain attempt]                                                                                                                                                                                                                                                                                                                                                                                                                                                                                                                                                                                                                                                                                                                                                    |\n",
            "|[Almighty Power Hurled, Power Hurled headlong, Hurled headlong flaming, headlong flaming th, flaming th ethereal, th ethereal sky, ethereal sky hideous, sky hideous ruin, hideous ruin combustion, ruin combustion bottomless, combustion bottomless perdition, bottomless perdition dwell, perdition dwell adamantine, dwell adamantine chains, adamantine chains penal, chains penal fire, penal fire durst, fire durst defy, durst defy th, defy th Omnipotent, th Omnipotent arms]                                                                                                                                                                                                                                                                                                                                                                                                                                                                                                                                                                                                                                                                                                                                                                                                                                                                                                                                                                                                                                                                                                       |\n",
            "+----------------------------------------------------------------------------------------------------------------------------------------------------------------------------------------------------------------------------------------------------------------------------------------------------------------------------------------------------------------------------------------------------------------------------------------------------------------------------------------------------------------------------------------------------------------------------------------------------------------------------------------------------------------------------------------------------------------------------------------------------------------------------------------------------------------------------------------------------------------------------------------------------------------------------------------------------------------------------------------------------------------------------------------------------------------------------------------------------------------------------------------------------------------------------------------------------------------------------------------------------------------------------------------------------------------------------------------------------------------------------------------------------------------------------------------------------------------------------------------------------------------------------------------------------------------------------------------------+\n",
            "only showing top 6 rows\n",
            "\n",
            "+-----------------------------------------------------------------------------------------------------------------------------------------------------------------------------------------------------------------------------------------------------------------------------------------------------------------------------------------------------------------------------------------------------------------------------------------------------------------------------------------------------------------------------------------------------------------------------------------------------------------------------------------------------------------------------------------------------------------------------------------------------------------------------------------------------------------------------------------------------------------------------------------------------------------------------------------------------------------------------------------------------------------------------------------------------------------------------------------------------------------------------------------------------------------------------------------------------------------------------------------------------------------------------------------------------------------------------------------------------------------------------------------------------------------------------------------------------------------------------------------------------------------------------------------------------------------------------------------------------------------------------------------------------------------------------------------------------------------------------------------------------------------------------------------------------------------------------------------------------------------------------------------------------------------------------------------------------------------------------------------------------------------------------------------------------------------------------+\n",
            "|4-grams                                                                                                                                                                                                                                                                                                                                                                                                                                                                                                                                                                                                                                                                                                                                                                                                                                                                                                                                                                                                                                                                                                                                                                                                                                                                                                                                                                                                                                                                                                                                                                                                                                                                                                                                                                                                                                                                                                                                                                                                                                                                      |\n",
            "+-----------------------------------------------------------------------------------------------------------------------------------------------------------------------------------------------------------------------------------------------------------------------------------------------------------------------------------------------------------------------------------------------------------------------------------------------------------------------------------------------------------------------------------------------------------------------------------------------------------------------------------------------------------------------------------------------------------------------------------------------------------------------------------------------------------------------------------------------------------------------------------------------------------------------------------------------------------------------------------------------------------------------------------------------------------------------------------------------------------------------------------------------------------------------------------------------------------------------------------------------------------------------------------------------------------------------------------------------------------------------------------------------------------------------------------------------------------------------------------------------------------------------------------------------------------------------------------------------------------------------------------------------------------------------------------------------------------------------------------------------------------------------------------------------------------------------------------------------------------------------------------------------------------------------------------------------------------------------------------------------------------------------------------------------------------------------------+\n",
            "|[Paradise Lost John Milton, Lost John Milton 1667, John Milton 1667 Book, Milton 1667 Book Man, 1667 Book Man 's, Book Man 's first, Man 's first disobedience, 's first disobedience fruit, first disobedience fruit forbidden, disobedience fruit forbidden tree, fruit forbidden tree whose, forbidden tree whose mortal, tree whose mortal taste, whose mortal taste Brought, mortal taste Brought death, taste Brought death World, Brought death World woe, death World woe loss, World woe loss Eden, woe loss Eden till, loss Eden till one, Eden till one greater, till one greater Man, one greater Man Restore, greater Man Restore us, Man Restore us regain, Restore us regain blissful, us regain blissful seat, regain blissful seat Sing, blissful seat Sing Heavenly, seat Sing Heavenly Muse, Sing Heavenly Muse secret, Heavenly Muse secret top, Muse secret top Oreb, secret top Oreb Sinai, top Oreb Sinai didst, Oreb Sinai didst inspire, Sinai didst inspire shepherd, didst inspire shepherd first, inspire shepherd first taught, shepherd first taught chosen, first taught chosen seed, taught chosen seed beginning, chosen seed beginning heavens, seed beginning heavens earth, beginning heavens earth Rose, heavens earth Rose Chaos, earth Rose Chaos Sion, Rose Chaos Sion hill, Chaos Sion hill Delight, Sion hill Delight thee, hill Delight thee Siloa, Delight thee Siloa 's, thee Siloa 's brook, Siloa 's brook flowed, 's brook flowed Fast, brook flowed Fast oracle, flowed Fast oracle God, Fast oracle God thence, oracle God thence Invoke, God thence Invoke thy, thence Invoke thy aid, Invoke thy aid adventurous, thy aid adventurous song, aid adventurous song middle, adventurous song middle flight, song middle flight intends, middle flight intends soar, flight intends soar th, intends soar th Aonian, soar th Aonian mount, th Aonian mount pursues, Aonian mount pursues Things, mount pursues Things unattempted, pursues Things unattempted yet, Things unattempted yet prose, unattempted yet prose rhyme]|\n",
            "|[chiefly thou Spirit dost, thou Spirit dost prefer, Spirit dost prefer temples, dost prefer temples th, prefer temples th upright, temples th upright heart, th upright heart pure, upright heart pure Instruct, heart pure Instruct thou, pure Instruct thou know'st, Instruct thou know'st thou, thou know'st thou first, know'st thou first Wast, thou first Wast present, first Wast present mighty, Wast present mighty wings, present mighty wings outspread, mighty wings outspread Dove-like, wings outspread Dove-like sat'st, outspread Dove-like sat'st brooding, Dove-like sat'st brooding vast, sat'st brooding vast Abyss, brooding vast Abyss mad'st, vast Abyss mad'st pregnant, Abyss mad'st pregnant dark, mad'st pregnant dark Illumine, pregnant dark Illumine low, dark Illumine low raise, Illumine low raise support, low raise support height, raise support height great, support height great argument, height great argument may, great argument may assert, argument may assert Eternal, may assert Eternal Providence, assert Eternal Providence justify, Eternal Providence justify ways, Providence justify ways God, justify ways God men]                                                                                                                                                                                                                                                                                                                                                                                                                                                                                                                                                                                                                                                                                                                                                                                                                                                                                                   |\n",
            "|[Say first -- Heaven, first -- Heaven hides, -- Heaven hides nothing, Heaven hides nothing thy, hides nothing thy view, nothing thy view deep, thy view deep tract, view deep tract Hell, deep tract Hell --, tract Hell -- say, Hell -- say first, -- say first cause, say first cause Moved, first cause Moved grand, cause Moved grand parents, Moved grand parents happy, grand parents happy state, parents happy state Favoured, happy state Favoured Heaven, state Favoured Heaven highly, Favoured Heaven highly fall, Heaven highly fall Creator, highly fall Creator transgress, fall Creator transgress one, Creator transgress one restraint, transgress one restraint lords, one restraint lords World, restraint lords World besides]                                                                                                                                                                                                                                                                                                                                                                                                                                                                                                                                                                                                                                                                                                                                                                                                                                                                                                                                                                                                                                                                                                                                                                                                                                                                                                                          |\n",
            "|[first seduced foul revolt]                                                                                                                                                                                                                                                                                                                                                                                                                                                                                                                                                                                                                                                                                                                                                                                                                                                                                                                                                                                                                                                                                                                                                                                                                                                                                                                                                                                                                                                                                                                                                                                                                                                                                                                                                                                                                                                                                                                                                                                                                                                  |\n",
            "|[Th infernal Serpent whose, infernal Serpent whose guile, Serpent whose guile Stirred, whose guile Stirred envy, guile Stirred envy revenge, Stirred envy revenge deceived, envy revenge deceived mother, revenge deceived mother mankind, deceived mother mankind time, mother mankind time pride, mankind time pride cast, time pride cast Heaven, pride cast Heaven host, cast Heaven host rebel, Heaven host rebel Angels, host rebel Angels whose, rebel Angels whose aid, Angels whose aid aspiring, whose aid aspiring set, aid aspiring set glory, aspiring set glory peers, set glory peers trusted, glory peers trusted equalled, peers trusted equalled High, trusted equalled High opposed, equalled High opposed ambitious, High opposed ambitious aim, opposed ambitious aim throne, ambitious aim throne monarchy, aim throne monarchy God, throne monarchy God Raised, monarchy God Raised impious, God Raised impious war, Raised impious war Heaven, impious war Heaven battle, war Heaven battle proud, Heaven battle proud vain, battle proud vain attempt]                                                                                                                                                                                                                                                                                                                                                                                                                                                                                                                                                                                                                                                                                                                                                                                                                                                                                                                                                                                              |\n",
            "|[Almighty Power Hurled headlong, Power Hurled headlong flaming, Hurled headlong flaming th, headlong flaming th ethereal, flaming th ethereal sky, th ethereal sky hideous, ethereal sky hideous ruin, sky hideous ruin combustion, hideous ruin combustion bottomless, ruin combustion bottomless perdition, combustion bottomless perdition dwell, bottomless perdition dwell adamantine, perdition dwell adamantine chains, dwell adamantine chains penal, adamantine chains penal fire, chains penal fire durst, penal fire durst defy, fire durst defy th, durst defy th Omnipotent, defy th Omnipotent arms]                                                                                                                                                                                                                                                                                                                                                                                                                                                                                                                                                                                                                                                                                                                                                                                                                                                                                                                                                                                                                                                                                                                                                                                                                                                                                                                                                                                                                                                           |\n",
            "+-----------------------------------------------------------------------------------------------------------------------------------------------------------------------------------------------------------------------------------------------------------------------------------------------------------------------------------------------------------------------------------------------------------------------------------------------------------------------------------------------------------------------------------------------------------------------------------------------------------------------------------------------------------------------------------------------------------------------------------------------------------------------------------------------------------------------------------------------------------------------------------------------------------------------------------------------------------------------------------------------------------------------------------------------------------------------------------------------------------------------------------------------------------------------------------------------------------------------------------------------------------------------------------------------------------------------------------------------------------------------------------------------------------------------------------------------------------------------------------------------------------------------------------------------------------------------------------------------------------------------------------------------------------------------------------------------------------------------------------------------------------------------------------------------------------------------------------------------------------------------------------------------------------------------------------------------------------------------------------------------------------------------------------------------------------------------------+\n",
            "only showing top 6 rows\n",
            "\n"
          ]
        }
      ]
    },
    {
      "cell_type": "markdown",
      "metadata": {
        "id": "BozJZvZVJ1ue"
      },
      "source": [
        "* Add the number of words column"
      ]
    },
    {
      "cell_type": "code",
      "metadata": {
        "id": "gnW-5PvwJ1ue"
      },
      "source": [
        "# Transform data\n",
        "len_udf = udf(lambda x: len(x), IntegerType())\n",
        "\n",
        "d5 = d4.withColumn(\"no_of_words\", len_udf(\"words\"))"
      ],
      "execution_count": 24,
      "outputs": []
    },
    {
      "cell_type": "code",
      "metadata": {
        "id": "byxmFkQxJ1ue",
        "outputId": "2cef1f86-bb90-4994-f02f-62d75d0f3780",
        "colab": {
          "base_uri": "https://localhost:8080/"
        }
      },
      "source": [
        "d5.show(5)"
      ],
      "execution_count": 25,
      "outputs": [
        {
          "output_type": "stream",
          "name": "stdout",
          "text": [
            "+--------------------+--------------------+-----------+\n",
            "|           sentences|               words|no_of_words|\n",
            "+--------------------+--------------------+-----------+\n",
            "|[Paradise Lost by...|[Paradise, Lost, ...|         80|\n",
            "|And chiefly thou,...|[chiefly, thou, S...|         43|\n",
            "|Say first--for He...|[Say, first, --, ...|         31|\n",
            "|Who first seduced...|[first, seduced, ...|          4|\n",
            "|Th' infernal Serp...|[Th, infernal, Se...|         41|\n",
            "+--------------------+--------------------+-----------+\n",
            "only showing top 5 rows\n",
            "\n"
          ]
        }
      ]
    },
    {
      "cell_type": "markdown",
      "metadata": {
        "id": "iw8-o6gMJ1ue"
      },
      "source": [
        "##### **POS (part-of-speech) tagging**\n",
        "\n",
        "It is a process of converting a sentence to forms – list of words, list of tuples (where each tuple is having a form (word, tag)). The tag is a part-of-speech tag and signifies whether the word is a noun, adjective, verb, and so on.\n",
        "\n",
        "To know more about POS tagging click [here](https://cdn.exec.talentsprint.com/static/cds/content/M7_AST5_pos.pdf)."
      ]
    },
    {
      "cell_type": "code",
      "metadata": {
        "id": "U8JhY1RqJ1uf",
        "outputId": "da7f79e9-7ccc-42ca-8dfb-9c87110f9d5a",
        "colab": {
          "base_uri": "https://localhost:8080/"
        }
      },
      "source": [
        "# Download dependencies for pos_tag()\n",
        "nltk.download('averaged_perceptron_tagger_eng')"
      ],
      "execution_count": 26,
      "outputs": [
        {
          "output_type": "stream",
          "name": "stderr",
          "text": [
            "[nltk_data] Downloading package averaged_perceptron_tagger_eng to\n",
            "[nltk_data]     /root/nltk_data...\n",
            "[nltk_data]   Unzipping taggers/averaged_perceptron_tagger_eng.zip.\n"
          ]
        },
        {
          "output_type": "execute_result",
          "data": {
            "text/plain": [
              "True"
            ]
          },
          "metadata": {},
          "execution_count": 26
        }
      ]
    },
    {
      "cell_type": "code",
      "metadata": {
        "id": "2M-3UpFRJ1uf"
      },
      "source": [
        "## define schema for returned result from the udf function\n",
        "## the returned result is a list of tuples\n",
        "schema = ArrayType(StructType([\n",
        "            StructField('f1', StringType()),\n",
        "            StructField('f2', StringType())    ]))\n",
        "\n",
        "sent_to_tag_words_udf = udf(lambda x: nltk.pos_tag(x), schema)"
      ],
      "execution_count": 27,
      "outputs": []
    },
    {
      "cell_type": "code",
      "metadata": {
        "id": "PkckMu1MJ1uf",
        "outputId": "7f9fe8d0-aef3-4340-cc2f-b01ac1d3acfc",
        "colab": {
          "base_uri": "https://localhost:8080/"
        }
      },
      "source": [
        "# Transform data\n",
        "d6 = d5.withColumn(\"tagged_words\", sent_to_tag_words_udf(\"words\"))\n",
        "d6.show(5)"
      ],
      "execution_count": 28,
      "outputs": [
        {
          "output_type": "stream",
          "name": "stdout",
          "text": [
            "+--------------------+--------------------+-----------+--------------------+\n",
            "|           sentences|               words|no_of_words|        tagged_words|\n",
            "+--------------------+--------------------+-----------+--------------------+\n",
            "|[Paradise Lost by...|[Paradise, Lost, ...|         80|[{Paradise, NN}, ...|\n",
            "|And chiefly thou,...|[chiefly, thou, S...|         43|[{chiefly, NN}, {...|\n",
            "|Say first--for He...|[Say, first, --, ...|         31|[{Say, NNP}, {fir...|\n",
            "|Who first seduced...|[first, seduced, ...|          4|[{first, RB}, {se...|\n",
            "|Th' infernal Serp...|[Th, infernal, Se...|         41|[{Th, NNP}, {infe...|\n",
            "+--------------------+--------------------+-----------+--------------------+\n",
            "only showing top 5 rows\n",
            "\n"
          ]
        }
      ]
    },
    {
      "cell_type": "markdown",
      "metadata": {
        "id": "1EYWgCKWJ1uf"
      },
      "source": [
        "##### **Frequency Distribution Plot**\n",
        "\n",
        "It gives us information about the number of times a word has occurred within a sentence."
      ]
    },
    {
      "cell_type": "code",
      "metadata": {
        "id": "NWhKkH9-J1uf",
        "outputId": "b1745866-89e8-46b1-a475-d804a5283ca6",
        "colab": {
          "base_uri": "https://localhost:8080/",
          "height": 527
        }
      },
      "source": [
        "from nltk.probability import FreqDist\n",
        "\n",
        "row = d6.select('words').toPandas().iloc[0,0]\n",
        "fd = FreqDist(row)\n",
        "fd.plot(30, cumulative= False)\n",
        "plt.show()"
      ],
      "execution_count": 29,
      "outputs": [
        {
          "output_type": "display_data",
          "data": {
            "text/plain": [
              "<Figure size 640x480 with 1 Axes>"
            ],
            "image/png": "[encoded data removed]"
          },
          "metadata": {}
        }
      ]
    },
    {
      "cell_type": "markdown",
      "metadata": {
        "id": "36AvWojEJ1uf"
      },
      "source": [
        "From the above plot it can be seen that in the first row, the word 'Man' has occurred twice."
      ]
    },
    {
      "cell_type": "markdown",
      "metadata": {
        "id": "IwWhqb88J1uf"
      },
      "source": [
        "##### **Chunking**\n",
        "Chunking is the process of grouping similar words together based on the nature of the word. It is the process of segmenting and labeling multitokens. Let's see how to do a noun phrase chunking on the tagged words data frame from the previous step.\n",
        "\n",
        "First we need to define a udf function that chunks noun phrases from a list of pos-tagged words."
      ]
    },
    {
      "cell_type": "code",
      "metadata": {
        "id": "g08SQc6XJ1ug"
      },
      "source": [
        "# define a udf function to chunk noun phrases from pos-tagged words\n",
        "grammar = \"NP: {<DT>?<JJ>*<NN>}\"\n",
        "chunk_parser = nltk.RegexpParser(grammar)\n",
        "chunk_parser_udf = udf(lambda x: str(chunk_parser.parse(x)), StringType())"
      ],
      "execution_count": 30,
      "outputs": []
    },
    {
      "cell_type": "code",
      "metadata": {
        "id": "PrAbDbOGJ1ug"
      },
      "source": [
        "# Transform data\n",
        "d7 = d6.withColumn(\"NP_chunk\", chunk_parser_udf(\"tagged_words\"))"
      ],
      "execution_count": 31,
      "outputs": []
    },
    {
      "cell_type": "code",
      "metadata": {
        "id": "v0bVIAQOJ1uh",
        "outputId": "66f5e9cc-2605-4d52-a169-abafb636a016",
        "colab": {
          "base_uri": "https://localhost:8080/"
        }
      },
      "source": [
        "d7.select('NP_chunk').show(1, truncate= False)"
      ],
      "execution_count": 32,
      "outputs": [
        {
          "output_type": "stream",
          "name": "stdout",
          "text": [
            "+---------------------------------------------------------------------------------------------------------------------------------------------------------------------------------------------------------------------------------------------------------------------------------------------------------------------------------------------------------------------------------------------------------------------------------------------------------------------------------------------------------------------------------------------------------------------------------------------------------------------------------------------------------------------------------------------------------------------------------------------------------------------------------------------------------------------------------------------------------------------------------------------------------------------------------------------------------------------------------------------------------------------------------------------------------------------------------------------------------------------------------------------------------------------+\n",
            "|NP_chunk                                                                                                                                                                                                                                                                                                                                                                                                                                                                                                                                                                                                                                                                                                                                                                                                                                                                                                                                                                                                                                                                                                                                                             |\n",
            "+---------------------------------------------------------------------------------------------------------------------------------------------------------------------------------------------------------------------------------------------------------------------------------------------------------------------------------------------------------------------------------------------------------------------------------------------------------------------------------------------------------------------------------------------------------------------------------------------------------------------------------------------------------------------------------------------------------------------------------------------------------------------------------------------------------------------------------------------------------------------------------------------------------------------------------------------------------------------------------------------------------------------------------------------------------------------------------------------------------------------------------------------------------------------+\n",
            "|(S\\n  (NP Paradise/NN)\\n  Lost/NNP\\n  John/NNP\\n  Milton/NNP\\n  1667/CD\\n  Book/NNP\\n  Man/NNP\\n  's/POS\\n  (NP first/JJ disobedience/NN)\\n  (NP fruit/NN)\\n  (NP forbidden/JJ tree/NN)\\n  whose/WP$\\n  (NP mortal/JJ taste/NN)\\n  Brought/NNP\\n  (NP death/NN)\\n  World/NNP\\n  (NP woe/NN)\\n  (NP loss/NN)\\n  Eden/NNP\\n  (NP till/NN)\\n  one/CD\\n  greater/JJR\\n  (NP Man/NN)\\n  Restore/NNP\\n  us/PRP\\n  regain/VBP\\n  (NP blissful/JJ seat/NN)\\n  Sing/VBG\\n  Heavenly/NNP\\n  Muse/NNP\\n  (NP secret/JJ top/NN)\\n  Oreb/NNP\\n  Sinai/NNP\\n  (NP didst/NN)\\n  (NP inspire/NN)\\n  (NP shepherd/NN)\\n  first/RB\\n  taught/VBD\\n  chosen/NNS\\n  (NP seed/NN)\\n  beginning/VBG\\n  heavens/NNS\\n  (NP earth/NN)\\n  Rose/NNP\\n  Chaos/NNP\\n  Sion/NNP\\n  (NP hill/NN)\\n  Delight/NNP\\n  thee/VBZ\\n  Siloa/NNP\\n  's/POS\\n  (NP brook/NN)\\n  flowed/VBD\\n  Fast/NNP\\n  (NP oracle/NN)\\n  God/NNP\\n  (NP thence/NN)\\n  Invoke/NNP\\n  (NP thy/NN)\\n  (NP aid/NN)\\n  (NP adventurous/JJ song/NN)\\n  (NP middle/JJ flight/NN)\\n  intends/VBZ\\n  soar/VB\\n  (NP th/JJ Aonian/JJ mount/NN)\\n  pursues/NNS\\n  Things/NNP\\n  unattempted/VBD\\n  yet/RB\\n  (NP prose/JJ rhyme/NN))|\n",
            "+---------------------------------------------------------------------------------------------------------------------------------------------------------------------------------------------------------------------------------------------------------------------------------------------------------------------------------------------------------------------------------------------------------------------------------------------------------------------------------------------------------------------------------------------------------------------------------------------------------------------------------------------------------------------------------------------------------------------------------------------------------------------------------------------------------------------------------------------------------------------------------------------------------------------------------------------------------------------------------------------------------------------------------------------------------------------------------------------------------------------------------------------------------------------+\n",
            "only showing top 1 row\n",
            "\n"
          ]
        }
      ]
    },
    {
      "cell_type": "code",
      "source": [
        "# Function to pretty-print chunks\n",
        "def pretty_print_tree(chunk):\n",
        "    try:\n",
        "        tree = Tree.fromstring(chunk)  # Parse the chunk as an NLTK tree\n",
        "        return tree.pformat(margin=200)  # Pretty print with a margin\n",
        "    except Exception as e:\n",
        "        return str(e)\n",
        "\n",
        "# UDF to apply pretty-printing\n",
        "pretty_print_udf = udf(pretty_print_tree, StringType())\n",
        "\n",
        "# Apply UDF to create a new column with pretty-printed trees\n",
        "d7_pretty = d7.withColumn(\"Pretty_Tree\", pretty_print_udf(d7[\"NP_chunk\"]))\n",
        "\n",
        "row=d7_pretty.collect()[0]\n",
        "print(row['Pretty_Tree'])"
      ],
      "metadata": {
        "id": "ScQ-qGYhbC3k",
        "outputId": "8dff8b36-2f50-4d95-98fa-8e179721155b",
        "colab": {
          "base_uri": "https://localhost:8080/"
        }
      },
      "execution_count": 33,
      "outputs": [
        {
          "output_type": "stream",
          "name": "stdout",
          "text": [
            "(S\n",
            "  (NP Paradise/NN)\n",
            "  Lost/NNP\n",
            "  John/NNP\n",
            "  Milton/NNP\n",
            "  1667/CD\n",
            "  Book/NNP\n",
            "  Man/NNP\n",
            "  's/POS\n",
            "  (NP first/JJ disobedience/NN)\n",
            "  (NP fruit/NN)\n",
            "  (NP forbidden/JJ tree/NN)\n",
            "  whose/WP$\n",
            "  (NP mortal/JJ taste/NN)\n",
            "  Brought/NNP\n",
            "  (NP death/NN)\n",
            "  World/NNP\n",
            "  (NP woe/NN)\n",
            "  (NP loss/NN)\n",
            "  Eden/NNP\n",
            "  (NP till/NN)\n",
            "  one/CD\n",
            "  greater/JJR\n",
            "  (NP Man/NN)\n",
            "  Restore/NNP\n",
            "  us/PRP\n",
            "  regain/VBP\n",
            "  (NP blissful/JJ seat/NN)\n",
            "  Sing/VBG\n",
            "  Heavenly/NNP\n",
            "  Muse/NNP\n",
            "  (NP secret/JJ top/NN)\n",
            "  Oreb/NNP\n",
            "  Sinai/NNP\n",
            "  (NP didst/NN)\n",
            "  (NP inspire/NN)\n",
            "  (NP shepherd/NN)\n",
            "  first/RB\n",
            "  taught/VBD\n",
            "  chosen/NNS\n",
            "  (NP seed/NN)\n",
            "  beginning/VBG\n",
            "  heavens/NNS\n",
            "  (NP earth/NN)\n",
            "  Rose/NNP\n",
            "  Chaos/NNP\n",
            "  Sion/NNP\n",
            "  (NP hill/NN)\n",
            "  Delight/NNP\n",
            "  thee/VBZ\n",
            "  Siloa/NNP\n",
            "  's/POS\n",
            "  (NP brook/NN)\n",
            "  flowed/VBD\n",
            "  Fast/NNP\n",
            "  (NP oracle/NN)\n",
            "  God/NNP\n",
            "  (NP thence/NN)\n",
            "  Invoke/NNP\n",
            "  (NP thy/NN)\n",
            "  (NP aid/NN)\n",
            "  (NP adventurous/JJ song/NN)\n",
            "  (NP middle/JJ flight/NN)\n",
            "  intends/VBZ\n",
            "  soar/VB\n",
            "  (NP th/JJ Aonian/JJ mount/NN)\n",
            "  pursues/NNS\n",
            "  Things/NNP\n",
            "  unattempted/VBD\n",
            "  yet/RB\n",
            "  (NP prose/JJ rhyme/NN))\n"
          ]
        }
      ]
    },
    {
      "cell_type": "markdown",
      "metadata": {
        "id": "5l8mSsydJ1uh"
      },
      "source": [
        "#### Load data"
      ]
    },
    {
      "cell_type": "markdown",
      "metadata": {
        "id": "8wG_GKthJ1uh"
      },
      "source": [
        "**Use Parquet file to store data**"
      ]
    },
    {
      "cell_type": "code",
      "metadata": {
        "id": "Jwz7yHbcJ1uh"
      },
      "source": [
        "d7.write.format(\"parquet\").mode(\"overwrite\").save(\"transformed_text_parquet_data\")"
      ],
      "execution_count": 34,
      "outputs": []
    },
    {
      "cell_type": "markdown",
      "metadata": {
        "id": "Vn8a8aVKJ1uh"
      },
      "source": [
        "**Read data from Parquet file**"
      ]
    },
    {
      "cell_type": "code",
      "metadata": {
        "id": "zU67l4gUJ1uh"
      },
      "source": [
        "df_text_parquet = spark.read.format(\"parquet\").load(\"transformed_text_parquet_data\")"
      ],
      "execution_count": 35,
      "outputs": []
    },
    {
      "cell_type": "code",
      "metadata": {
        "id": "yonfCe5wJ1ui"
      },
      "source": [
        "df_text_parquet.show(5)"
      ],
      "execution_count": null,
      "outputs": []
    },
    {
      "cell_type": "markdown",
      "metadata": {
        "id": "IsSrVl6bJ1ui"
      },
      "source": [
        "**Store the data as a `json file`**"
      ]
    },
    {
      "cell_type": "code",
      "metadata": {
        "id": "B5Jobed2J1ui"
      },
      "source": [
        "d7.write.format(\"json\").mode(\"overwrite\").save('transformed_text_json_data.json')"
      ],
      "execution_count": 36,
      "outputs": []
    },
    {
      "cell_type": "markdown",
      "metadata": {
        "id": "IxhbRkgOJ1ui"
      },
      "source": [
        "**Read data from `json` to spark dataframe**"
      ]
    },
    {
      "cell_type": "code",
      "metadata": {
        "id": "IXldw5HBJ1ui"
      },
      "source": [
        "df_text_json = spark.read.format(\"json\").load('transformed_text_json_data.json')"
      ],
      "execution_count": 37,
      "outputs": []
    },
    {
      "cell_type": "code",
      "metadata": {
        "id": "jcb-LBjAJ1ui",
        "outputId": "cb570891-a887-4187-dbb3-eb345d01d2ff",
        "colab": {
          "base_uri": "https://localhost:8080/"
        }
      },
      "source": [
        "df_text_json.show(5)"
      ],
      "execution_count": 38,
      "outputs": [
        {
          "output_type": "stream",
          "name": "stdout",
          "text": [
            "+--------------------+-----------+--------------------+--------------------+--------------------+\n",
            "|            NP_chunk|no_of_words|           sentences|        tagged_words|               words|\n",
            "+--------------------+-----------+--------------------+--------------------+--------------------+\n",
            "|(S\\n  (NP Paradis...|         80|[Paradise Lost by...|[{Paradise, NN}, ...|[Paradise, Lost, ...|\n",
            "|(S\\n  (NP chiefly...|         43|And chiefly thou,...|[{chiefly, NN}, {...|[chiefly, thou, S...|\n",
            "|(S\\n  Say/NNP\\n  ...|         31|Say first--for He...|[{Say, NNP}, {fir...|[Say, first, --, ...|\n",
            "|(S first/RB seduc...|          4|Who first seduced...|[{first, RB}, {se...|[first, seduced, ...|\n",
            "|(S\\n  Th/NNP\\n  i...|         41|Th' infernal Serp...|[{Th, NNP}, {infe...|[Th, infernal, Se...|\n",
            "+--------------------+-----------+--------------------+--------------------+--------------------+\n",
            "only showing top 5 rows\n",
            "\n"
          ]
        }
      ]
    },
    {
      "cell_type": "markdown",
      "metadata": {
        "id": "VHfHdGCP_n6Y"
      },
      "source": [
        "### Please answer the questions below to complete the experiment:\n",
        "\n",
        "\n"
      ]
    },
    {
      "cell_type": "code",
      "metadata": {
        "id": "VgSwVENIPcM6"
      },
      "source": [
        "# @title Considering the 16th row of transformed spark dataframe (d7), how many words occur more than once? { run: \"auto\", form-width: \"500px\", display-mode: \"form\" }\n",
        "Answer = \"1\" #@param [\"\",\"1\",\"2\",\"3\"]"
      ],
      "execution_count": 39,
      "outputs": []
    },
    {
      "cell_type": "code",
      "metadata": {
        "id": "NMzKSbLIgFzQ"
      },
      "source": [
        "#@title How was the experiment? { run: \"auto\", form-width: \"500px\", display-mode: \"form\" }\n",
        "Complexity = \"Good and Challenging for me\" #@param [\"\",\"Too Simple, I am wasting time\", \"Good, But Not Challenging for me\", \"Good and Challenging for me\", \"Was Tough, but I did it\", \"Too Difficult for me\"]\n"
      ],
      "execution_count": 40,
      "outputs": []
    },
    {
      "cell_type": "code",
      "metadata": {
        "id": "DjcH1VWSFI2l"
      },
      "source": [
        "#@title If it was too easy, what more would you have liked to be added? If it was very difficult, what would you have liked to have been removed? { run: \"auto\", display-mode: \"form\" }\n",
        "Additional = \"na\" #@param {type:\"string\"}\n"
      ],
      "execution_count": 41,
      "outputs": []
    },
    {
      "cell_type": "code",
      "metadata": {
        "id": "4VBk_4VTAxCM"
      },
      "source": [
        "#@title Can you identify the concepts from the lecture which this experiment covered? { run: \"auto\", vertical-output: true, display-mode: \"form\" }\n",
        "Concepts = \"Yes\" #@param [\"\",\"Yes\", \"No\"]\n"
      ],
      "execution_count": 42,
      "outputs": []
    },
    {
      "cell_type": "code",
      "metadata": {
        "id": "XH91cL1JWH7m"
      },
      "source": [
        "#@title  Text and image description/explanation and code comments within the experiment: { run: \"auto\", vertical-output: true, display-mode: \"form\" }\n",
        "Comments = \"Very Useful\" #@param [\"\",\"Very Useful\", \"Somewhat Useful\", \"Not Useful\", \"Didn't use\"]\n"
      ],
      "execution_count": 43,
      "outputs": []
    },
    {
      "cell_type": "code",
      "metadata": {
        "id": "z8xLqj7VWIKW"
      },
      "source": [
        "#@title Mentor Support: { run: \"auto\", vertical-output: true, display-mode: \"form\" }\n",
        "Mentor_support = \"Didn't use\" #@param [\"\",\"Very Useful\", \"Somewhat Useful\", \"Not Useful\", \"Didn't use\"]\n"
      ],
      "execution_count": 44,
      "outputs": []
    },
    {
      "cell_type": "code",
      "metadata": {
        "id": "FzAZHt1zw-Y-",
        "cellView": "form",
        "outputId": "12fd556d-1492-4c47-bfed-0c2552cf1fea",
        "colab": {
          "base_uri": "https://localhost:8080/"
        }
      },
      "source": [
        "#@title Run this cell to submit your notebook for grading { vertical-output: true }\n",
        "try:\n",
        "  if submission_id:\n",
        "      return_id = submit_notebook()\n",
        "      if return_id : submission_id = return_id\n",
        "  else:\n",
        "      print(\"Please complete the setup first.\")\n",
        "except NameError:\n",
        "  print (\"Please complete the setup first.\")"
      ],
      "execution_count": 45,
      "outputs": [
        {
          "output_type": "stream",
          "name": "stdout",
          "text": [
            "Your submission is successful.\n",
            "Ref Id: 7821\n",
            "Date of submission:  26 Jan 2025\n",
            "Time of submission:  20:05:16\n",
            "View your submissions: https://cds-iisc.talentsprint.com/notebook_submissions\n"
          ]
        }
      ]
    }
  ]
}